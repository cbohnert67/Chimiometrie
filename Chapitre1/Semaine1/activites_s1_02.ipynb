{
 "cells": [
  {
   "cell_type": "markdown",
   "id": "11d4af73-9921-4645-a7c8-ef198598ed6c",
   "metadata": {},
   "source": [
    "# Activités du grain 02"
   ]
  },
  {
   "cell_type": "code",
   "execution_count": 1,
   "id": "6fb9cb0f-907c-49c2-9f6a-dd6feb7b90f6",
   "metadata": {
    "tags": []
   },
   "outputs": [],
   "source": [
    "import numpy as np\n",
    "import pandas as pd\n",
    "import matplotlib.pyplot as plt\n",
    "import scipy\n",
    "import seaborn as sns\n",
    "import warnings\n",
    "warnings.filterwarnings('ignore')"
   ]
  },
  {
   "cell_type": "markdown",
   "id": "72ea8347-21fb-4045-929e-1d273ad44430",
   "metadata": {},
   "source": [
    "# Test de personnalité "
   ]
  },
  {
   "cell_type": "code",
   "execution_count": 2,
   "id": "aae06e42-59d3-43c9-b303-0fa9f58a8733",
   "metadata": {
    "tags": []
   },
   "outputs": [],
   "source": [
    "enquete = pd.read_csv(\"./Data/enquete.csv\")"
   ]
  },
  {
   "cell_type": "code",
   "execution_count": 3,
   "id": "4d97edf3-0cb7-487f-a5a7-cce66c9fd5d5",
   "metadata": {
    "tags": []
   },
   "outputs": [
    {
     "data": {
      "text/html": [
       "<div>\n",
       "<style scoped>\n",
       "    .dataframe tbody tr th:only-of-type {\n",
       "        vertical-align: middle;\n",
       "    }\n",
       "\n",
       "    .dataframe tbody tr th {\n",
       "        vertical-align: top;\n",
       "    }\n",
       "\n",
       "    .dataframe thead th {\n",
       "        text-align: right;\n",
       "    }\n",
       "</style>\n",
       "<table border=\"1\" class=\"dataframe\">\n",
       "  <thead>\n",
       "    <tr style=\"text-align: right;\">\n",
       "      <th></th>\n",
       "      <th>Unnamed: 0</th>\n",
       "      <th>Bou</th>\n",
       "      <th>Jog</th>\n",
       "      <th>Roc</th>\n",
       "      <th>Bio</th>\n",
       "      <th>Equi</th>\n",
       "    </tr>\n",
       "  </thead>\n",
       "  <tbody>\n",
       "    <tr>\n",
       "      <th>0</th>\n",
       "      <td>Lara</td>\n",
       "      <td>0</td>\n",
       "      <td>10</td>\n",
       "      <td>2</td>\n",
       "      <td>3</td>\n",
       "      <td>6</td>\n",
       "    </tr>\n",
       "    <tr>\n",
       "      <th>1</th>\n",
       "      <td>Eric</td>\n",
       "      <td>8</td>\n",
       "      <td>4</td>\n",
       "      <td>2</td>\n",
       "      <td>2</td>\n",
       "      <td>2</td>\n",
       "    </tr>\n",
       "    <tr>\n",
       "      <th>2</th>\n",
       "      <td>Harald</td>\n",
       "      <td>0</td>\n",
       "      <td>3</td>\n",
       "      <td>10</td>\n",
       "      <td>0</td>\n",
       "      <td>0</td>\n",
       "    </tr>\n",
       "    <tr>\n",
       "      <th>3</th>\n",
       "      <td>Flora</td>\n",
       "      <td>2</td>\n",
       "      <td>3</td>\n",
       "      <td>1</td>\n",
       "      <td>9</td>\n",
       "      <td>4</td>\n",
       "    </tr>\n",
       "  </tbody>\n",
       "</table>\n",
       "</div>"
      ],
      "text/plain": [
       "  Unnamed: 0  Bou  Jog  Roc  Bio  Equi\n",
       "0       Lara    0   10    2    3     6\n",
       "1       Eric    8    4    2    2     2\n",
       "2     Harald    0    3   10    0     0\n",
       "3      Flora    2    3    1    9     4"
      ]
     },
     "execution_count": 3,
     "metadata": {},
     "output_type": "execute_result"
    }
   ],
   "source": [
    "enquete.head()"
   ]
  },
  {
   "cell_type": "code",
   "execution_count": 4,
   "id": "655c2b3b-2ae5-4bf8-b801-18373586415a",
   "metadata": {
    "tags": []
   },
   "outputs": [],
   "source": [
    "enquete.rename(columns={'Unnamed: 0': 'Nom'}, inplace=True)"
   ]
  },
  {
   "cell_type": "markdown",
   "id": "86f78e11-1202-46cc-b59a-5d412461488b",
   "metadata": {},
   "source": [
    "### Matrice des distances euclidiennes"
   ]
  },
  {
   "cell_type": "code",
   "execution_count": 5,
   "id": "a495505b-e699-4ebc-a352-787d4e9fb6b0",
   "metadata": {},
   "outputs": [],
   "source": [
    "X = enquete.loc[:, \"Bou\":].to_numpy()"
   ]
  },
  {
   "cell_type": "code",
   "execution_count": 6,
   "id": "528a19ae-08fb-4156-87d5-38146103401c",
   "metadata": {
    "tags": []
   },
   "outputs": [],
   "source": [
    "D = pd.concat([enquete.Nom, pd.DataFrame(scipy.spatial.distance_matrix(X, X), columns=enquete.Nom)], axis=1)"
   ]
  },
  {
   "cell_type": "code",
   "execution_count": 7,
   "id": "73075b89-98a7-4702-bdf2-e2017b6524b1",
   "metadata": {
    "tags": []
   },
   "outputs": [
    {
     "data": {
      "text/html": [
       "<div>\n",
       "<style scoped>\n",
       "    .dataframe tbody tr th:only-of-type {\n",
       "        vertical-align: middle;\n",
       "    }\n",
       "\n",
       "    .dataframe tbody tr th {\n",
       "        vertical-align: top;\n",
       "    }\n",
       "\n",
       "    .dataframe thead th {\n",
       "        text-align: right;\n",
       "    }\n",
       "</style>\n",
       "<table border=\"1\" class=\"dataframe\">\n",
       "  <thead>\n",
       "    <tr style=\"text-align: right;\">\n",
       "      <th></th>\n",
       "      <th>Nom</th>\n",
       "      <th>Lara</th>\n",
       "      <th>Eric</th>\n",
       "      <th>Harald</th>\n",
       "      <th>Flora</th>\n",
       "    </tr>\n",
       "  </thead>\n",
       "  <tbody>\n",
       "    <tr>\n",
       "      <th>0</th>\n",
       "      <td>Lara</td>\n",
       "      <td>0.000000</td>\n",
       "      <td>10.816654</td>\n",
       "      <td>12.569805</td>\n",
       "      <td>9.695360</td>\n",
       "    </tr>\n",
       "    <tr>\n",
       "      <th>1</th>\n",
       "      <td>Eric</td>\n",
       "      <td>10.816654</td>\n",
       "      <td>0.000000</td>\n",
       "      <td>11.704700</td>\n",
       "      <td>9.539392</td>\n",
       "    </tr>\n",
       "    <tr>\n",
       "      <th>2</th>\n",
       "      <td>Harald</td>\n",
       "      <td>12.569805</td>\n",
       "      <td>11.704700</td>\n",
       "      <td>0.000000</td>\n",
       "      <td>13.490738</td>\n",
       "    </tr>\n",
       "    <tr>\n",
       "      <th>3</th>\n",
       "      <td>Flora</td>\n",
       "      <td>9.695360</td>\n",
       "      <td>9.539392</td>\n",
       "      <td>13.490738</td>\n",
       "      <td>0.000000</td>\n",
       "    </tr>\n",
       "  </tbody>\n",
       "</table>\n",
       "</div>"
      ],
      "text/plain": [
       "      Nom       Lara       Eric     Harald      Flora\n",
       "0    Lara   0.000000  10.816654  12.569805   9.695360\n",
       "1    Eric  10.816654   0.000000  11.704700   9.539392\n",
       "2  Harald  12.569805  11.704700   0.000000  13.490738\n",
       "3   Flora   9.695360   9.539392  13.490738   0.000000"
      ]
     },
     "execution_count": 7,
     "metadata": {},
     "output_type": "execute_result"
    }
   ],
   "source": [
    "D"
   ]
  },
  {
   "cell_type": "markdown",
   "id": "37c27c41-2c69-4834-a9ea-24ef14dfa22a",
   "metadata": {},
   "source": [
    "### Norme du vecteur des réponses"
   ]
  },
  {
   "cell_type": "code",
   "execution_count": 8,
   "id": "0c6d792d-960b-46c4-839f-5e1e3fb65eb4",
   "metadata": {
    "tags": []
   },
   "outputs": [
    {
     "data": {
      "text/html": [
       "<div>\n",
       "<style scoped>\n",
       "    .dataframe tbody tr th:only-of-type {\n",
       "        vertical-align: middle;\n",
       "    }\n",
       "\n",
       "    .dataframe tbody tr th {\n",
       "        vertical-align: top;\n",
       "    }\n",
       "\n",
       "    .dataframe thead th {\n",
       "        text-align: right;\n",
       "    }\n",
       "</style>\n",
       "<table border=\"1\" class=\"dataframe\">\n",
       "  <thead>\n",
       "    <tr style=\"text-align: right;\">\n",
       "      <th></th>\n",
       "      <th>Nom</th>\n",
       "      <th>0</th>\n",
       "    </tr>\n",
       "  </thead>\n",
       "  <tbody>\n",
       "    <tr>\n",
       "      <th>0</th>\n",
       "      <td>Lara</td>\n",
       "      <td>12.206556</td>\n",
       "    </tr>\n",
       "    <tr>\n",
       "      <th>1</th>\n",
       "      <td>Eric</td>\n",
       "      <td>9.591663</td>\n",
       "    </tr>\n",
       "    <tr>\n",
       "      <th>2</th>\n",
       "      <td>Harald</td>\n",
       "      <td>10.440307</td>\n",
       "    </tr>\n",
       "    <tr>\n",
       "      <th>3</th>\n",
       "      <td>Flora</td>\n",
       "      <td>10.535654</td>\n",
       "    </tr>\n",
       "  </tbody>\n",
       "</table>\n",
       "</div>"
      ],
      "text/plain": [
       "      Nom          0\n",
       "0    Lara  12.206556\n",
       "1    Eric   9.591663\n",
       "2  Harald  10.440307\n",
       "3   Flora  10.535654"
      ]
     },
     "execution_count": 8,
     "metadata": {},
     "output_type": "execute_result"
    }
   ],
   "source": [
    "pd.concat([enquete.Nom, pd.DataFrame(np.sqrt(np.square(X).sum(axis=1)))], axis=1)"
   ]
  },
  {
   "cell_type": "markdown",
   "id": "3a123770-3117-4247-8544-52d43f0e470d",
   "metadata": {},
   "source": [
    "# Spectres visible - proche infrarouge - de farines de blé"
   ]
  },
  {
   "cell_type": "code",
   "execution_count": 9,
   "id": "0e4f8ff4-2f14-4d9a-8f07-edde65ffe9a0",
   "metadata": {
    "tags": []
   },
   "outputs": [
    {
     "ename": "FileNotFoundError",
     "evalue": "[Errno 2] No such file or directory: './grain02/x_140farines.csv'",
     "output_type": "error",
     "traceback": [
      "\u001b[1;31m---------------------------------------------------------------------------\u001b[0m",
      "\u001b[1;31mFileNotFoundError\u001b[0m                         Traceback (most recent call last)",
      "Cell \u001b[1;32mIn[9], line 1\u001b[0m\n\u001b[1;32m----> 1\u001b[0m xfarines \u001b[38;5;241m=\u001b[39m pd\u001b[38;5;241m.\u001b[39mread_csv(\u001b[38;5;124m\"\u001b[39m\u001b[38;5;124m./grain02/x_140farines.csv\u001b[39m\u001b[38;5;124m\"\u001b[39m)\n\u001b[0;32m      2\u001b[0m yfarines \u001b[38;5;241m=\u001b[39m pd\u001b[38;5;241m.\u001b[39mread_csv(\u001b[38;5;124m\"\u001b[39m\u001b[38;5;124m./grain02/y_140farines.csv\u001b[39m\u001b[38;5;124m\"\u001b[39m)\n",
      "File \u001b[1;32m~\\anaconda3\\envs\\Chimiometrie\\Lib\\site-packages\\pandas\\io\\parsers\\readers.py:948\u001b[0m, in \u001b[0;36mread_csv\u001b[1;34m(filepath_or_buffer, sep, delimiter, header, names, index_col, usecols, dtype, engine, converters, true_values, false_values, skipinitialspace, skiprows, skipfooter, nrows, na_values, keep_default_na, na_filter, verbose, skip_blank_lines, parse_dates, infer_datetime_format, keep_date_col, date_parser, date_format, dayfirst, cache_dates, iterator, chunksize, compression, thousands, decimal, lineterminator, quotechar, quoting, doublequote, escapechar, comment, encoding, encoding_errors, dialect, on_bad_lines, delim_whitespace, low_memory, memory_map, float_precision, storage_options, dtype_backend)\u001b[0m\n\u001b[0;32m    935\u001b[0m kwds_defaults \u001b[38;5;241m=\u001b[39m _refine_defaults_read(\n\u001b[0;32m    936\u001b[0m     dialect,\n\u001b[0;32m    937\u001b[0m     delimiter,\n\u001b[1;32m   (...)\u001b[0m\n\u001b[0;32m    944\u001b[0m     dtype_backend\u001b[38;5;241m=\u001b[39mdtype_backend,\n\u001b[0;32m    945\u001b[0m )\n\u001b[0;32m    946\u001b[0m kwds\u001b[38;5;241m.\u001b[39mupdate(kwds_defaults)\n\u001b[1;32m--> 948\u001b[0m \u001b[38;5;28;01mreturn\u001b[39;00m _read(filepath_or_buffer, kwds)\n",
      "File \u001b[1;32m~\\anaconda3\\envs\\Chimiometrie\\Lib\\site-packages\\pandas\\io\\parsers\\readers.py:611\u001b[0m, in \u001b[0;36m_read\u001b[1;34m(filepath_or_buffer, kwds)\u001b[0m\n\u001b[0;32m    608\u001b[0m _validate_names(kwds\u001b[38;5;241m.\u001b[39mget(\u001b[38;5;124m\"\u001b[39m\u001b[38;5;124mnames\u001b[39m\u001b[38;5;124m\"\u001b[39m, \u001b[38;5;28;01mNone\u001b[39;00m))\n\u001b[0;32m    610\u001b[0m \u001b[38;5;66;03m# Create the parser.\u001b[39;00m\n\u001b[1;32m--> 611\u001b[0m parser \u001b[38;5;241m=\u001b[39m TextFileReader(filepath_or_buffer, \u001b[38;5;241m*\u001b[39m\u001b[38;5;241m*\u001b[39mkwds)\n\u001b[0;32m    613\u001b[0m \u001b[38;5;28;01mif\u001b[39;00m chunksize \u001b[38;5;129;01mor\u001b[39;00m iterator:\n\u001b[0;32m    614\u001b[0m     \u001b[38;5;28;01mreturn\u001b[39;00m parser\n",
      "File \u001b[1;32m~\\anaconda3\\envs\\Chimiometrie\\Lib\\site-packages\\pandas\\io\\parsers\\readers.py:1448\u001b[0m, in \u001b[0;36mTextFileReader.__init__\u001b[1;34m(self, f, engine, **kwds)\u001b[0m\n\u001b[0;32m   1445\u001b[0m     \u001b[38;5;28mself\u001b[39m\u001b[38;5;241m.\u001b[39moptions[\u001b[38;5;124m\"\u001b[39m\u001b[38;5;124mhas_index_names\u001b[39m\u001b[38;5;124m\"\u001b[39m] \u001b[38;5;241m=\u001b[39m kwds[\u001b[38;5;124m\"\u001b[39m\u001b[38;5;124mhas_index_names\u001b[39m\u001b[38;5;124m\"\u001b[39m]\n\u001b[0;32m   1447\u001b[0m \u001b[38;5;28mself\u001b[39m\u001b[38;5;241m.\u001b[39mhandles: IOHandles \u001b[38;5;241m|\u001b[39m \u001b[38;5;28;01mNone\u001b[39;00m \u001b[38;5;241m=\u001b[39m \u001b[38;5;28;01mNone\u001b[39;00m\n\u001b[1;32m-> 1448\u001b[0m \u001b[38;5;28mself\u001b[39m\u001b[38;5;241m.\u001b[39m_engine \u001b[38;5;241m=\u001b[39m \u001b[38;5;28mself\u001b[39m\u001b[38;5;241m.\u001b[39m_make_engine(f, \u001b[38;5;28mself\u001b[39m\u001b[38;5;241m.\u001b[39mengine)\n",
      "File \u001b[1;32m~\\anaconda3\\envs\\Chimiometrie\\Lib\\site-packages\\pandas\\io\\parsers\\readers.py:1705\u001b[0m, in \u001b[0;36mTextFileReader._make_engine\u001b[1;34m(self, f, engine)\u001b[0m\n\u001b[0;32m   1703\u001b[0m     \u001b[38;5;28;01mif\u001b[39;00m \u001b[38;5;124m\"\u001b[39m\u001b[38;5;124mb\u001b[39m\u001b[38;5;124m\"\u001b[39m \u001b[38;5;129;01mnot\u001b[39;00m \u001b[38;5;129;01min\u001b[39;00m mode:\n\u001b[0;32m   1704\u001b[0m         mode \u001b[38;5;241m+\u001b[39m\u001b[38;5;241m=\u001b[39m \u001b[38;5;124m\"\u001b[39m\u001b[38;5;124mb\u001b[39m\u001b[38;5;124m\"\u001b[39m\n\u001b[1;32m-> 1705\u001b[0m \u001b[38;5;28mself\u001b[39m\u001b[38;5;241m.\u001b[39mhandles \u001b[38;5;241m=\u001b[39m get_handle(\n\u001b[0;32m   1706\u001b[0m     f,\n\u001b[0;32m   1707\u001b[0m     mode,\n\u001b[0;32m   1708\u001b[0m     encoding\u001b[38;5;241m=\u001b[39m\u001b[38;5;28mself\u001b[39m\u001b[38;5;241m.\u001b[39moptions\u001b[38;5;241m.\u001b[39mget(\u001b[38;5;124m\"\u001b[39m\u001b[38;5;124mencoding\u001b[39m\u001b[38;5;124m\"\u001b[39m, \u001b[38;5;28;01mNone\u001b[39;00m),\n\u001b[0;32m   1709\u001b[0m     compression\u001b[38;5;241m=\u001b[39m\u001b[38;5;28mself\u001b[39m\u001b[38;5;241m.\u001b[39moptions\u001b[38;5;241m.\u001b[39mget(\u001b[38;5;124m\"\u001b[39m\u001b[38;5;124mcompression\u001b[39m\u001b[38;5;124m\"\u001b[39m, \u001b[38;5;28;01mNone\u001b[39;00m),\n\u001b[0;32m   1710\u001b[0m     memory_map\u001b[38;5;241m=\u001b[39m\u001b[38;5;28mself\u001b[39m\u001b[38;5;241m.\u001b[39moptions\u001b[38;5;241m.\u001b[39mget(\u001b[38;5;124m\"\u001b[39m\u001b[38;5;124mmemory_map\u001b[39m\u001b[38;5;124m\"\u001b[39m, \u001b[38;5;28;01mFalse\u001b[39;00m),\n\u001b[0;32m   1711\u001b[0m     is_text\u001b[38;5;241m=\u001b[39mis_text,\n\u001b[0;32m   1712\u001b[0m     errors\u001b[38;5;241m=\u001b[39m\u001b[38;5;28mself\u001b[39m\u001b[38;5;241m.\u001b[39moptions\u001b[38;5;241m.\u001b[39mget(\u001b[38;5;124m\"\u001b[39m\u001b[38;5;124mencoding_errors\u001b[39m\u001b[38;5;124m\"\u001b[39m, \u001b[38;5;124m\"\u001b[39m\u001b[38;5;124mstrict\u001b[39m\u001b[38;5;124m\"\u001b[39m),\n\u001b[0;32m   1713\u001b[0m     storage_options\u001b[38;5;241m=\u001b[39m\u001b[38;5;28mself\u001b[39m\u001b[38;5;241m.\u001b[39moptions\u001b[38;5;241m.\u001b[39mget(\u001b[38;5;124m\"\u001b[39m\u001b[38;5;124mstorage_options\u001b[39m\u001b[38;5;124m\"\u001b[39m, \u001b[38;5;28;01mNone\u001b[39;00m),\n\u001b[0;32m   1714\u001b[0m )\n\u001b[0;32m   1715\u001b[0m \u001b[38;5;28;01massert\u001b[39;00m \u001b[38;5;28mself\u001b[39m\u001b[38;5;241m.\u001b[39mhandles \u001b[38;5;129;01mis\u001b[39;00m \u001b[38;5;129;01mnot\u001b[39;00m \u001b[38;5;28;01mNone\u001b[39;00m\n\u001b[0;32m   1716\u001b[0m f \u001b[38;5;241m=\u001b[39m \u001b[38;5;28mself\u001b[39m\u001b[38;5;241m.\u001b[39mhandles\u001b[38;5;241m.\u001b[39mhandle\n",
      "File \u001b[1;32m~\\anaconda3\\envs\\Chimiometrie\\Lib\\site-packages\\pandas\\io\\common.py:863\u001b[0m, in \u001b[0;36mget_handle\u001b[1;34m(path_or_buf, mode, encoding, compression, memory_map, is_text, errors, storage_options)\u001b[0m\n\u001b[0;32m    858\u001b[0m \u001b[38;5;28;01melif\u001b[39;00m \u001b[38;5;28misinstance\u001b[39m(handle, \u001b[38;5;28mstr\u001b[39m):\n\u001b[0;32m    859\u001b[0m     \u001b[38;5;66;03m# Check whether the filename is to be opened in binary mode.\u001b[39;00m\n\u001b[0;32m    860\u001b[0m     \u001b[38;5;66;03m# Binary mode does not support 'encoding' and 'newline'.\u001b[39;00m\n\u001b[0;32m    861\u001b[0m     \u001b[38;5;28;01mif\u001b[39;00m ioargs\u001b[38;5;241m.\u001b[39mencoding \u001b[38;5;129;01mand\u001b[39;00m \u001b[38;5;124m\"\u001b[39m\u001b[38;5;124mb\u001b[39m\u001b[38;5;124m\"\u001b[39m \u001b[38;5;129;01mnot\u001b[39;00m \u001b[38;5;129;01min\u001b[39;00m ioargs\u001b[38;5;241m.\u001b[39mmode:\n\u001b[0;32m    862\u001b[0m         \u001b[38;5;66;03m# Encoding\u001b[39;00m\n\u001b[1;32m--> 863\u001b[0m         handle \u001b[38;5;241m=\u001b[39m \u001b[38;5;28mopen\u001b[39m(\n\u001b[0;32m    864\u001b[0m             handle,\n\u001b[0;32m    865\u001b[0m             ioargs\u001b[38;5;241m.\u001b[39mmode,\n\u001b[0;32m    866\u001b[0m             encoding\u001b[38;5;241m=\u001b[39mioargs\u001b[38;5;241m.\u001b[39mencoding,\n\u001b[0;32m    867\u001b[0m             errors\u001b[38;5;241m=\u001b[39merrors,\n\u001b[0;32m    868\u001b[0m             newline\u001b[38;5;241m=\u001b[39m\u001b[38;5;124m\"\u001b[39m\u001b[38;5;124m\"\u001b[39m,\n\u001b[0;32m    869\u001b[0m         )\n\u001b[0;32m    870\u001b[0m     \u001b[38;5;28;01melse\u001b[39;00m:\n\u001b[0;32m    871\u001b[0m         \u001b[38;5;66;03m# Binary mode\u001b[39;00m\n\u001b[0;32m    872\u001b[0m         handle \u001b[38;5;241m=\u001b[39m \u001b[38;5;28mopen\u001b[39m(handle, ioargs\u001b[38;5;241m.\u001b[39mmode)\n",
      "\u001b[1;31mFileNotFoundError\u001b[0m: [Errno 2] No such file or directory: './grain02/x_140farines.csv'"
     ]
    }
   ],
   "source": [
    "xfarines = pd.read_csv(\"./Data/x_140farines.csv\")\n",
    "yfarines = pd.read_csv(\"./Data/y_140farines.csv\")"
   ]
  },
  {
   "cell_type": "code",
   "execution_count": null,
   "id": "e8a613b2-4d11-495e-aabb-af6cdd7fd3c6",
   "metadata": {
    "tags": []
   },
   "outputs": [],
   "source": [
    "xfarines.head()"
   ]
  },
  {
   "cell_type": "code",
   "execution_count": null,
   "id": "d5053812-738d-4085-90db-09ad112c5bde",
   "metadata": {
    "tags": []
   },
   "outputs": [],
   "source": [
    "yfarines.head()"
   ]
  },
  {
   "cell_type": "markdown",
   "id": "df086408-ccfb-4bb8-b364-39c14bc967f4",
   "metadata": {},
   "source": [
    "### Fusion et nettoyage des données"
   ]
  },
  {
   "cell_type": "code",
   "execution_count": null,
   "id": "47f4c6fb-e6bc-4d1e-80b7-d7b3f15e7a63",
   "metadata": {
    "tags": []
   },
   "outputs": [],
   "source": [
    "xfarines.rename(columns={'\\\\': 'Farine'}, inplace=True)"
   ]
  },
  {
   "cell_type": "code",
   "execution_count": null,
   "id": "3459b00f-abeb-4b3e-b3e4-8f24ba72407b",
   "metadata": {
    "tags": []
   },
   "outputs": [],
   "source": [
    "farines = pd.concat([xfarines, yfarines], axis=1).drop('  ', axis=1)"
   ]
  },
  {
   "cell_type": "code",
   "execution_count": null,
   "id": "1e8cfb51-6f42-4341-979e-5a3dde491059",
   "metadata": {
    "tags": []
   },
   "outputs": [],
   "source": [
    "farines.head()"
   ]
  },
  {
   "cell_type": "markdown",
   "id": "b58ff59e-f900-414d-9712-859d97304c23",
   "metadata": {},
   "source": [
    "### Courbe du Spectre Moyen"
   ]
  },
  {
   "cell_type": "code",
   "execution_count": null,
   "id": "9d3e86a8-ee6a-40ad-a9ee-7cbe875f2066",
   "metadata": {
    "tags": []
   },
   "outputs": [],
   "source": [
    "# Courbe du Spectre Moyen\n",
    "\n",
    "x = xfarines.columns[1:].to_numpy(dtype='float64')\n",
    "y = xfarines.loc[:, \"400\":\"2496\"].mean().to_numpy(dtype='float64')\n",
    "\n",
    "plt.plot(x,y)\n",
    "plt.title(\"Courbe du Spectre Moyen\")\n",
    "plt.xlabel(\"Longueur d'onde (nm)\")\n",
    "plt.ylabel(\"Absorbance\")\n",
    "plt.show()"
   ]
  },
  {
   "cell_type": "markdown",
   "id": "d2c434c4-ba8b-4f70-ac9d-4c1f608a4509",
   "metadata": {},
   "source": [
    "### Courbe des Ecart-Types"
   ]
  },
  {
   "cell_type": "code",
   "execution_count": null,
   "id": "ca04a714-d8d4-4c64-9f7d-b32ee68d7466",
   "metadata": {
    "tags": []
   },
   "outputs": [],
   "source": [
    "# Courbe des Ecart-Types\n",
    "\n",
    "x = xfarines.columns[1:].to_numpy(dtype='float64')\n",
    "y = xfarines.loc[:, \"400\":\"2496\"].std().to_numpy(dtype='float64')\n",
    "\n",
    "plt.plot(x,y)\n",
    "plt.title(\"Courbe des Ecart-Types\")\n",
    "plt.xlabel(\"Longueur d'onde (nm)\")\n",
    "plt.ylabel(\"Absorbance\")\n",
    "plt.show()"
   ]
  },
  {
   "cell_type": "markdown",
   "id": "fffb9ce2-a77c-43aa-9900-5dba1969d0bd",
   "metadata": {
    "tags": []
   },
   "source": [
    "###  Corrélogramme"
   ]
  },
  {
   "cell_type": "code",
   "execution_count": null,
   "id": "3e8d2af7-e31b-4a48-b2ec-98dc5f386053",
   "metadata": {},
   "outputs": [],
   "source": [
    "#  Corrélogramme\n",
    "\n",
    "x = farines.columns[1:-2].to_numpy(dtype='float64')\n",
    "y = np.array([np.corrcoef(farines[col], farines.PROTREF)[0, 1] for col in farines.columns[1:-2]])\n",
    "\n",
    "plt.plot(x,y)\n",
    "plt.title(\"Corrélogramme\")\n",
    "plt.xlabel(\"Longueur d'onde (nm)\")\n",
    "plt.ylabel(\"Coefficient de correlation\")\n",
    "plt.show()"
   ]
  },
  {
   "cell_type": "markdown",
   "id": "58cb4bcd-a947-4000-acc1-4a89a27991ef",
   "metadata": {},
   "source": [
    "### Histogramme de la variable « protéines »"
   ]
  },
  {
   "cell_type": "code",
   "execution_count": null,
   "id": "2b7601bf-2863-4482-a78d-f783b67390a4",
   "metadata": {
    "tags": []
   },
   "outputs": [],
   "source": [
    "sns.histplot(data=farines, x=\"PROTREF\", hue=\"dur/tendre\", kde=True, binwidth=0.5)\n",
    "plt.show()"
   ]
  },
  {
   "cell_type": "markdown",
   "id": "7272aeca-3754-4522-b7e0-530c38a0982f",
   "metadata": {},
   "source": [
    "### Histogramme de la longueur d’onde 2000 nanomètres."
   ]
  },
  {
   "cell_type": "code",
   "execution_count": null,
   "id": "2d52b4bd-75ac-4f46-a87f-11ac2e4f3329",
   "metadata": {
    "tags": []
   },
   "outputs": [],
   "source": [
    "sns.histplot(data=farines, x=\"2000\", hue=\"dur/tendre\", kde=True, binwidth=0.02)\n",
    "plt.show()"
   ]
  },
  {
   "cell_type": "code",
   "execution_count": null,
   "id": "c6a8e42b-76f4-4604-9de4-820ae31a5024",
   "metadata": {},
   "outputs": [],
   "source": []
  }
 ],
 "metadata": {
  "kernelspec": {
   "display_name": "Python 3 (ipykernel)",
   "language": "python",
   "name": "python3"
  },
  "language_info": {
   "codemirror_mode": {
    "name": "ipython",
    "version": 3
   },
   "file_extension": ".py",
   "mimetype": "text/x-python",
   "name": "python",
   "nbconvert_exporter": "python",
   "pygments_lexer": "ipython3",
   "version": "3.11.5"
  }
 },
 "nbformat": 4,
 "nbformat_minor": 5
}
