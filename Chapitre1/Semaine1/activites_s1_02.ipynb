{
 "cells": [
  {
   "cell_type": "markdown",
   "id": "11d4af73-9921-4645-a7c8-ef198598ed6c",
   "metadata": {},
   "source": [
    "# Activités du grain 02"
   ]
  },
  {
   "cell_type": "code",
   "execution_count": 1,
   "id": "6fb9cb0f-907c-49c2-9f6a-dd6feb7b90f6",
   "metadata": {
    "tags": []
   },
   "outputs": [],
   "source": [
    "import numpy as np\n",
    "import pandas as pd\n",
    "import matplotlib.pyplot as plt\n",
    "import scipy\n",
    "import seaborn as sns\n",
    "import warnings\n",
    "warnings.filterwarnings('ignore')"
   ]
  },
  {
   "cell_type": "markdown",
   "id": "72ea8347-21fb-4045-929e-1d273ad44430",
   "metadata": {},
   "source": [
    "# Test de personnalité "
   ]
  },
  {
   "cell_type": "code",
   "execution_count": 2,
   "id": "aae06e42-59d3-43c9-b303-0fa9f58a8733",
   "metadata": {
    "tags": []
   },
   "outputs": [],
   "source": [
    "enquete = pd.read_csv(\"./Data/enquete.csv\")"
   ]
  },
  {
   "cell_type": "code",
   "execution_count": 3,
   "id": "4d97edf3-0cb7-487f-a5a7-cce66c9fd5d5",
   "metadata": {
    "tags": []
   },
   "outputs": [
    {
     "data": {
      "text/html": [
       "<div>\n",
       "<style scoped>\n",
       "    .dataframe tbody tr th:only-of-type {\n",
       "        vertical-align: middle;\n",
       "    }\n",
       "\n",
       "    .dataframe tbody tr th {\n",
       "        vertical-align: top;\n",
       "    }\n",
       "\n",
       "    .dataframe thead th {\n",
       "        text-align: right;\n",
       "    }\n",
       "</style>\n",
       "<table border=\"1\" class=\"dataframe\">\n",
       "  <thead>\n",
       "    <tr style=\"text-align: right;\">\n",
       "      <th></th>\n",
       "      <th>Unnamed: 0</th>\n",
       "      <th>Bou</th>\n",
       "      <th>Jog</th>\n",
       "      <th>Roc</th>\n",
       "      <th>Bio</th>\n",
       "      <th>Equi</th>\n",
       "    </tr>\n",
       "  </thead>\n",
       "  <tbody>\n",
       "    <tr>\n",
       "      <th>0</th>\n",
       "      <td>Lara</td>\n",
       "      <td>0</td>\n",
       "      <td>10</td>\n",
       "      <td>2</td>\n",
       "      <td>3</td>\n",
       "      <td>6</td>\n",
       "    </tr>\n",
       "    <tr>\n",
       "      <th>1</th>\n",
       "      <td>Eric</td>\n",
       "      <td>8</td>\n",
       "      <td>4</td>\n",
       "      <td>2</td>\n",
       "      <td>2</td>\n",
       "      <td>2</td>\n",
       "    </tr>\n",
       "    <tr>\n",
       "      <th>2</th>\n",
       "      <td>Harald</td>\n",
       "      <td>0</td>\n",
       "      <td>3</td>\n",
       "      <td>10</td>\n",
       "      <td>0</td>\n",
       "      <td>0</td>\n",
       "    </tr>\n",
       "    <tr>\n",
       "      <th>3</th>\n",
       "      <td>Flora</td>\n",
       "      <td>2</td>\n",
       "      <td>3</td>\n",
       "      <td>1</td>\n",
       "      <td>9</td>\n",
       "      <td>4</td>\n",
       "    </tr>\n",
       "  </tbody>\n",
       "</table>\n",
       "</div>"
      ],
      "text/plain": [
       "  Unnamed: 0  Bou  Jog  Roc  Bio  Equi\n",
       "0       Lara    0   10    2    3     6\n",
       "1       Eric    8    4    2    2     2\n",
       "2     Harald    0    3   10    0     0\n",
       "3      Flora    2    3    1    9     4"
      ]
     },
     "execution_count": 3,
     "metadata": {},
     "output_type": "execute_result"
    }
   ],
   "source": [
    "enquete.head()"
   ]
  },
  {
   "cell_type": "code",
   "execution_count": 4,
   "id": "655c2b3b-2ae5-4bf8-b801-18373586415a",
   "metadata": {
    "tags": []
   },
   "outputs": [],
   "source": [
    "enquete.rename(columns={'Unnamed: 0': 'Nom'}, inplace=True)"
   ]
  },
  {
   "cell_type": "markdown",
   "id": "86f78e11-1202-46cc-b59a-5d412461488b",
   "metadata": {},
   "source": [
    "### Matrice des distances euclidiennes"
   ]
  },
  {
   "cell_type": "code",
   "execution_count": 5,
   "id": "a495505b-e699-4ebc-a352-787d4e9fb6b0",
   "metadata": {},
   "outputs": [],
   "source": [
    "X = enquete.loc[:, \"Bou\":].to_numpy()"
   ]
  },
  {
   "cell_type": "code",
   "execution_count": 6,
   "id": "528a19ae-08fb-4156-87d5-38146103401c",
   "metadata": {
    "tags": []
   },
   "outputs": [],
   "source": [
    "D = pd.concat([enquete.Nom, pd.DataFrame(scipy.spatial.distance_matrix(X, X), columns=enquete.Nom)], axis=1)"
   ]
  },
  {
   "cell_type": "code",
   "execution_count": 7,
   "id": "73075b89-98a7-4702-bdf2-e2017b6524b1",
   "metadata": {
    "tags": []
   },
   "outputs": [
    {
     "data": {
      "text/html": [
       "<div>\n",
       "<style scoped>\n",
       "    .dataframe tbody tr th:only-of-type {\n",
       "        vertical-align: middle;\n",
       "    }\n",
       "\n",
       "    .dataframe tbody tr th {\n",
       "        vertical-align: top;\n",
       "    }\n",
       "\n",
       "    .dataframe thead th {\n",
       "        text-align: right;\n",
       "    }\n",
       "</style>\n",
       "<table border=\"1\" class=\"dataframe\">\n",
       "  <thead>\n",
       "    <tr style=\"text-align: right;\">\n",
       "      <th></th>\n",
       "      <th>Nom</th>\n",
       "      <th>Lara</th>\n",
       "      <th>Eric</th>\n",
       "      <th>Harald</th>\n",
       "      <th>Flora</th>\n",
       "    </tr>\n",
       "  </thead>\n",
       "  <tbody>\n",
       "    <tr>\n",
       "      <th>0</th>\n",
       "      <td>Lara</td>\n",
       "      <td>0.000000</td>\n",
       "      <td>10.816654</td>\n",
       "      <td>12.569805</td>\n",
       "      <td>9.695360</td>\n",
       "    </tr>\n",
       "    <tr>\n",
       "      <th>1</th>\n",
       "      <td>Eric</td>\n",
       "      <td>10.816654</td>\n",
       "      <td>0.000000</td>\n",
       "      <td>11.704700</td>\n",
       "      <td>9.539392</td>\n",
       "    </tr>\n",
       "    <tr>\n",
       "      <th>2</th>\n",
       "      <td>Harald</td>\n",
       "      <td>12.569805</td>\n",
       "      <td>11.704700</td>\n",
       "      <td>0.000000</td>\n",
       "      <td>13.490738</td>\n",
       "    </tr>\n",
       "    <tr>\n",
       "      <th>3</th>\n",
       "      <td>Flora</td>\n",
       "      <td>9.695360</td>\n",
       "      <td>9.539392</td>\n",
       "      <td>13.490738</td>\n",
       "      <td>0.000000</td>\n",
       "    </tr>\n",
       "  </tbody>\n",
       "</table>\n",
       "</div>"
      ],
      "text/plain": [
       "      Nom       Lara       Eric     Harald      Flora\n",
       "0    Lara   0.000000  10.816654  12.569805   9.695360\n",
       "1    Eric  10.816654   0.000000  11.704700   9.539392\n",
       "2  Harald  12.569805  11.704700   0.000000  13.490738\n",
       "3   Flora   9.695360   9.539392  13.490738   0.000000"
      ]
     },
     "execution_count": 7,
     "metadata": {},
     "output_type": "execute_result"
    }
   ],
   "source": [
    "D"
   ]
  },
  {
   "cell_type": "markdown",
   "id": "37c27c41-2c69-4834-a9ea-24ef14dfa22a",
   "metadata": {},
   "source": [
    "### Norme du vecteur des réponses"
   ]
  },
  {
   "cell_type": "code",
   "execution_count": 8,
   "id": "0c6d792d-960b-46c4-839f-5e1e3fb65eb4",
   "metadata": {
    "tags": []
   },
   "outputs": [
    {
     "data": {
      "text/html": [
       "<div>\n",
       "<style scoped>\n",
       "    .dataframe tbody tr th:only-of-type {\n",
       "        vertical-align: middle;\n",
       "    }\n",
       "\n",
       "    .dataframe tbody tr th {\n",
       "        vertical-align: top;\n",
       "    }\n",
       "\n",
       "    .dataframe thead th {\n",
       "        text-align: right;\n",
       "    }\n",
       "</style>\n",
       "<table border=\"1\" class=\"dataframe\">\n",
       "  <thead>\n",
       "    <tr style=\"text-align: right;\">\n",
       "      <th></th>\n",
       "      <th>Nom</th>\n",
       "      <th>0</th>\n",
       "    </tr>\n",
       "  </thead>\n",
       "  <tbody>\n",
       "    <tr>\n",
       "      <th>0</th>\n",
       "      <td>Lara</td>\n",
       "      <td>12.206556</td>\n",
       "    </tr>\n",
       "    <tr>\n",
       "      <th>1</th>\n",
       "      <td>Eric</td>\n",
       "      <td>9.591663</td>\n",
       "    </tr>\n",
       "    <tr>\n",
       "      <th>2</th>\n",
       "      <td>Harald</td>\n",
       "      <td>10.440307</td>\n",
       "    </tr>\n",
       "    <tr>\n",
       "      <th>3</th>\n",
       "      <td>Flora</td>\n",
       "      <td>10.535654</td>\n",
       "    </tr>\n",
       "  </tbody>\n",
       "</table>\n",
       "</div>"
      ],
      "text/plain": [
       "      Nom          0\n",
       "0    Lara  12.206556\n",
       "1    Eric   9.591663\n",
       "2  Harald  10.440307\n",
       "3   Flora  10.535654"
      ]
     },
     "execution_count": 8,
     "metadata": {},
     "output_type": "execute_result"
    }
   ],
   "source": [
    "pd.concat([enquete.Nom, pd.DataFrame(np.sqrt(np.square(X).sum(axis=1)))], axis=1)"
   ]
  },
  {
   "cell_type": "markdown",
   "id": "3a123770-3117-4247-8544-52d43f0e470d",
   "metadata": {},
   "source": [
    "# Spectres visible - proche infrarouge - de farines de blé"
   ]
  },
  {
   "cell_type": "code",
   "execution_count": 9,
   "id": "0e4f8ff4-2f14-4d9a-8f07-edde65ffe9a0",
   "metadata": {
    "tags": []
   },
   "outputs": [],
   "source": [
    "xfarines = pd.read_csv(\"./Data/x_140farines.csv\")\n",
    "yfarines = pd.read_csv(\"./Data/y_140farines.csv\")"
   ]
  },
  {
   "cell_type": "code",
   "execution_count": 10,
   "id": "e8a613b2-4d11-495e-aabb-af6cdd7fd3c6",
   "metadata": {
    "tags": []
   },
   "outputs": [
    {
     "data": {
      "text/html": [
       "<div>\n",
       "<style scoped>\n",
       "    .dataframe tbody tr th:only-of-type {\n",
       "        vertical-align: middle;\n",
       "    }\n",
       "\n",
       "    .dataframe tbody tr th {\n",
       "        vertical-align: top;\n",
       "    }\n",
       "\n",
       "    .dataframe thead th {\n",
       "        text-align: right;\n",
       "    }\n",
       "</style>\n",
       "<table border=\"1\" class=\"dataframe\">\n",
       "  <thead>\n",
       "    <tr style=\"text-align: right;\">\n",
       "      <th></th>\n",
       "      <th>\\</th>\n",
       "      <th>400</th>\n",
       "      <th>404</th>\n",
       "      <th>408</th>\n",
       "      <th>412</th>\n",
       "      <th>416</th>\n",
       "      <th>420</th>\n",
       "      <th>424</th>\n",
       "      <th>428</th>\n",
       "      <th>432</th>\n",
       "      <th>...</th>\n",
       "      <th>2460</th>\n",
       "      <th>2464</th>\n",
       "      <th>2468</th>\n",
       "      <th>2472</th>\n",
       "      <th>2476</th>\n",
       "      <th>2480</th>\n",
       "      <th>2484</th>\n",
       "      <th>2488</th>\n",
       "      <th>2492</th>\n",
       "      <th>2496</th>\n",
       "    </tr>\n",
       "  </thead>\n",
       "  <tbody>\n",
       "    <tr>\n",
       "      <th>0</th>\n",
       "      <td>3T1A1</td>\n",
       "      <td>0.2195</td>\n",
       "      <td>0.2254</td>\n",
       "      <td>0.2296</td>\n",
       "      <td>0.2326</td>\n",
       "      <td>0.2342</td>\n",
       "      <td>0.2354</td>\n",
       "      <td>0.2348</td>\n",
       "      <td>0.2337</td>\n",
       "      <td>0.2320</td>\n",
       "      <td>...</td>\n",
       "      <td>0.5378</td>\n",
       "      <td>0.5439</td>\n",
       "      <td>0.5496</td>\n",
       "      <td>0.5548</td>\n",
       "      <td>0.5591</td>\n",
       "      <td>0.5625</td>\n",
       "      <td>0.5650</td>\n",
       "      <td>0.5665</td>\n",
       "      <td>0.5672</td>\n",
       "      <td>0.5672</td>\n",
       "    </tr>\n",
       "    <tr>\n",
       "      <th>1</th>\n",
       "      <td>3T1A2</td>\n",
       "      <td>0.2166</td>\n",
       "      <td>0.2222</td>\n",
       "      <td>0.2262</td>\n",
       "      <td>0.2290</td>\n",
       "      <td>0.2308</td>\n",
       "      <td>0.2316</td>\n",
       "      <td>0.2309</td>\n",
       "      <td>0.2299</td>\n",
       "      <td>0.2282</td>\n",
       "      <td>...</td>\n",
       "      <td>0.5290</td>\n",
       "      <td>0.5351</td>\n",
       "      <td>0.5408</td>\n",
       "      <td>0.5459</td>\n",
       "      <td>0.5502</td>\n",
       "      <td>0.5536</td>\n",
       "      <td>0.5561</td>\n",
       "      <td>0.5577</td>\n",
       "      <td>0.5583</td>\n",
       "      <td>0.5583</td>\n",
       "    </tr>\n",
       "    <tr>\n",
       "      <th>2</th>\n",
       "      <td>3T1H1</td>\n",
       "      <td>0.2261</td>\n",
       "      <td>0.2327</td>\n",
       "      <td>0.2369</td>\n",
       "      <td>0.2398</td>\n",
       "      <td>0.2414</td>\n",
       "      <td>0.2418</td>\n",
       "      <td>0.2410</td>\n",
       "      <td>0.2395</td>\n",
       "      <td>0.2374</td>\n",
       "      <td>...</td>\n",
       "      <td>0.5507</td>\n",
       "      <td>0.5567</td>\n",
       "      <td>0.5623</td>\n",
       "      <td>0.5673</td>\n",
       "      <td>0.5715</td>\n",
       "      <td>0.5748</td>\n",
       "      <td>0.5771</td>\n",
       "      <td>0.5786</td>\n",
       "      <td>0.5793</td>\n",
       "      <td>0.5792</td>\n",
       "    </tr>\n",
       "    <tr>\n",
       "      <th>3</th>\n",
       "      <td>3T1H2</td>\n",
       "      <td>0.2314</td>\n",
       "      <td>0.2377</td>\n",
       "      <td>0.2417</td>\n",
       "      <td>0.2444</td>\n",
       "      <td>0.2458</td>\n",
       "      <td>0.2461</td>\n",
       "      <td>0.2451</td>\n",
       "      <td>0.2433</td>\n",
       "      <td>0.2408</td>\n",
       "      <td>...</td>\n",
       "      <td>0.5468</td>\n",
       "      <td>0.5527</td>\n",
       "      <td>0.5582</td>\n",
       "      <td>0.5632</td>\n",
       "      <td>0.5673</td>\n",
       "      <td>0.5705</td>\n",
       "      <td>0.5728</td>\n",
       "      <td>0.5742</td>\n",
       "      <td>0.5749</td>\n",
       "      <td>0.5749</td>\n",
       "    </tr>\n",
       "    <tr>\n",
       "      <th>4</th>\n",
       "      <td>3T2A1</td>\n",
       "      <td>0.2378</td>\n",
       "      <td>0.2438</td>\n",
       "      <td>0.2480</td>\n",
       "      <td>0.2507</td>\n",
       "      <td>0.2519</td>\n",
       "      <td>0.2523</td>\n",
       "      <td>0.2509</td>\n",
       "      <td>0.2493</td>\n",
       "      <td>0.2470</td>\n",
       "      <td>...</td>\n",
       "      <td>0.5838</td>\n",
       "      <td>0.5904</td>\n",
       "      <td>0.5965</td>\n",
       "      <td>0.6020</td>\n",
       "      <td>0.6067</td>\n",
       "      <td>0.6104</td>\n",
       "      <td>0.6129</td>\n",
       "      <td>0.6146</td>\n",
       "      <td>0.6153</td>\n",
       "      <td>0.6153</td>\n",
       "    </tr>\n",
       "  </tbody>\n",
       "</table>\n",
       "<p>5 rows × 526 columns</p>\n",
       "</div>"
      ],
      "text/plain": [
       "       \\     400     404     408     412     416     420     424     428  \\\n",
       "0  3T1A1  0.2195  0.2254  0.2296  0.2326  0.2342  0.2354  0.2348  0.2337   \n",
       "1  3T1A2  0.2166  0.2222  0.2262  0.2290  0.2308  0.2316  0.2309  0.2299   \n",
       "2  3T1H1  0.2261  0.2327  0.2369  0.2398  0.2414  0.2418  0.2410  0.2395   \n",
       "3  3T1H2  0.2314  0.2377  0.2417  0.2444  0.2458  0.2461  0.2451  0.2433   \n",
       "4  3T2A1  0.2378  0.2438  0.2480  0.2507  0.2519  0.2523  0.2509  0.2493   \n",
       "\n",
       "      432  ...    2460    2464    2468    2472    2476    2480    2484  \\\n",
       "0  0.2320  ...  0.5378  0.5439  0.5496  0.5548  0.5591  0.5625  0.5650   \n",
       "1  0.2282  ...  0.5290  0.5351  0.5408  0.5459  0.5502  0.5536  0.5561   \n",
       "2  0.2374  ...  0.5507  0.5567  0.5623  0.5673  0.5715  0.5748  0.5771   \n",
       "3  0.2408  ...  0.5468  0.5527  0.5582  0.5632  0.5673  0.5705  0.5728   \n",
       "4  0.2470  ...  0.5838  0.5904  0.5965  0.6020  0.6067  0.6104  0.6129   \n",
       "\n",
       "     2488    2492    2496  \n",
       "0  0.5665  0.5672  0.5672  \n",
       "1  0.5577  0.5583  0.5583  \n",
       "2  0.5786  0.5793  0.5792  \n",
       "3  0.5742  0.5749  0.5749  \n",
       "4  0.6146  0.6153  0.6153  \n",
       "\n",
       "[5 rows x 526 columns]"
      ]
     },
     "execution_count": 10,
     "metadata": {},
     "output_type": "execute_result"
    }
   ],
   "source": [
    "xfarines.head()"
   ]
  },
  {
   "cell_type": "code",
   "execution_count": 11,
   "id": "d5053812-738d-4085-90db-09ad112c5bde",
   "metadata": {
    "tags": []
   },
   "outputs": [
    {
     "data": {
      "text/html": [
       "<div>\n",
       "<style scoped>\n",
       "    .dataframe tbody tr th:only-of-type {\n",
       "        vertical-align: middle;\n",
       "    }\n",
       "\n",
       "    .dataframe tbody tr th {\n",
       "        vertical-align: top;\n",
       "    }\n",
       "\n",
       "    .dataframe thead th {\n",
       "        text-align: right;\n",
       "    }\n",
       "</style>\n",
       "<table border=\"1\" class=\"dataframe\">\n",
       "  <thead>\n",
       "    <tr style=\"text-align: right;\">\n",
       "      <th></th>\n",
       "      <th></th>\n",
       "      <th>PROTREF</th>\n",
       "      <th>dur/tendre</th>\n",
       "    </tr>\n",
       "  </thead>\n",
       "  <tbody>\n",
       "    <tr>\n",
       "      <th>0</th>\n",
       "      <td>3T1A1</td>\n",
       "      <td>8.9</td>\n",
       "      <td>T</td>\n",
       "    </tr>\n",
       "    <tr>\n",
       "      <th>1</th>\n",
       "      <td>3T1A2</td>\n",
       "      <td>8.7</td>\n",
       "      <td>T</td>\n",
       "    </tr>\n",
       "    <tr>\n",
       "      <th>2</th>\n",
       "      <td>3T1H1</td>\n",
       "      <td>11.6</td>\n",
       "      <td>T</td>\n",
       "    </tr>\n",
       "    <tr>\n",
       "      <th>3</th>\n",
       "      <td>3T1H2</td>\n",
       "      <td>12.7</td>\n",
       "      <td>T</td>\n",
       "    </tr>\n",
       "    <tr>\n",
       "      <th>4</th>\n",
       "      <td>3T2A1</td>\n",
       "      <td>9.1</td>\n",
       "      <td>T</td>\n",
       "    </tr>\n",
       "  </tbody>\n",
       "</table>\n",
       "</div>"
      ],
      "text/plain": [
       "                PROTREF dur/tendre\n",
       "0  3T1A1            8.9          T\n",
       "1  3T1A2            8.7          T\n",
       "2  3T1H1           11.6          T\n",
       "3  3T1H2           12.7          T\n",
       "4  3T2A1            9.1          T"
      ]
     },
     "execution_count": 11,
     "metadata": {},
     "output_type": "execute_result"
    }
   ],
   "source": [
    "yfarines.head()"
   ]
  },
  {
   "cell_type": "markdown",
   "id": "df086408-ccfb-4bb8-b364-39c14bc967f4",
   "metadata": {},
   "source": [
    "### Fusion et nettoyage des données"
   ]
  },
  {
   "cell_type": "code",
   "execution_count": 12,
   "id": "47f4c6fb-e6bc-4d1e-80b7-d7b3f15e7a63",
   "metadata": {
    "tags": []
   },
   "outputs": [],
   "source": [
    "xfarines.rename(columns={'\\\\': 'Farine'}, inplace=True)"
   ]
  },
  {
   "cell_type": "code",
   "execution_count": 13,
   "id": "3459b00f-abeb-4b3e-b3e4-8f24ba72407b",
   "metadata": {
    "tags": []
   },
   "outputs": [],
   "source": [
    "farines = pd.concat([xfarines, yfarines], axis=1).drop('  ', axis=1)"
   ]
  },
  {
   "cell_type": "code",
   "execution_count": 14,
   "id": "1e8cfb51-6f42-4341-979e-5a3dde491059",
   "metadata": {
    "tags": []
   },
   "outputs": [
    {
     "data": {
      "text/html": [
       "<div>\n",
       "<style scoped>\n",
       "    .dataframe tbody tr th:only-of-type {\n",
       "        vertical-align: middle;\n",
       "    }\n",
       "\n",
       "    .dataframe tbody tr th {\n",
       "        vertical-align: top;\n",
       "    }\n",
       "\n",
       "    .dataframe thead th {\n",
       "        text-align: right;\n",
       "    }\n",
       "</style>\n",
       "<table border=\"1\" class=\"dataframe\">\n",
       "  <thead>\n",
       "    <tr style=\"text-align: right;\">\n",
       "      <th></th>\n",
       "      <th>Farine</th>\n",
       "      <th>400</th>\n",
       "      <th>404</th>\n",
       "      <th>408</th>\n",
       "      <th>412</th>\n",
       "      <th>416</th>\n",
       "      <th>420</th>\n",
       "      <th>424</th>\n",
       "      <th>428</th>\n",
       "      <th>432</th>\n",
       "      <th>...</th>\n",
       "      <th>2468</th>\n",
       "      <th>2472</th>\n",
       "      <th>2476</th>\n",
       "      <th>2480</th>\n",
       "      <th>2484</th>\n",
       "      <th>2488</th>\n",
       "      <th>2492</th>\n",
       "      <th>2496</th>\n",
       "      <th>PROTREF</th>\n",
       "      <th>dur/tendre</th>\n",
       "    </tr>\n",
       "  </thead>\n",
       "  <tbody>\n",
       "    <tr>\n",
       "      <th>0</th>\n",
       "      <td>3T1A1</td>\n",
       "      <td>0.2195</td>\n",
       "      <td>0.2254</td>\n",
       "      <td>0.2296</td>\n",
       "      <td>0.2326</td>\n",
       "      <td>0.2342</td>\n",
       "      <td>0.2354</td>\n",
       "      <td>0.2348</td>\n",
       "      <td>0.2337</td>\n",
       "      <td>0.2320</td>\n",
       "      <td>...</td>\n",
       "      <td>0.5496</td>\n",
       "      <td>0.5548</td>\n",
       "      <td>0.5591</td>\n",
       "      <td>0.5625</td>\n",
       "      <td>0.5650</td>\n",
       "      <td>0.5665</td>\n",
       "      <td>0.5672</td>\n",
       "      <td>0.5672</td>\n",
       "      <td>8.9</td>\n",
       "      <td>T</td>\n",
       "    </tr>\n",
       "    <tr>\n",
       "      <th>1</th>\n",
       "      <td>3T1A2</td>\n",
       "      <td>0.2166</td>\n",
       "      <td>0.2222</td>\n",
       "      <td>0.2262</td>\n",
       "      <td>0.2290</td>\n",
       "      <td>0.2308</td>\n",
       "      <td>0.2316</td>\n",
       "      <td>0.2309</td>\n",
       "      <td>0.2299</td>\n",
       "      <td>0.2282</td>\n",
       "      <td>...</td>\n",
       "      <td>0.5408</td>\n",
       "      <td>0.5459</td>\n",
       "      <td>0.5502</td>\n",
       "      <td>0.5536</td>\n",
       "      <td>0.5561</td>\n",
       "      <td>0.5577</td>\n",
       "      <td>0.5583</td>\n",
       "      <td>0.5583</td>\n",
       "      <td>8.7</td>\n",
       "      <td>T</td>\n",
       "    </tr>\n",
       "    <tr>\n",
       "      <th>2</th>\n",
       "      <td>3T1H1</td>\n",
       "      <td>0.2261</td>\n",
       "      <td>0.2327</td>\n",
       "      <td>0.2369</td>\n",
       "      <td>0.2398</td>\n",
       "      <td>0.2414</td>\n",
       "      <td>0.2418</td>\n",
       "      <td>0.2410</td>\n",
       "      <td>0.2395</td>\n",
       "      <td>0.2374</td>\n",
       "      <td>...</td>\n",
       "      <td>0.5623</td>\n",
       "      <td>0.5673</td>\n",
       "      <td>0.5715</td>\n",
       "      <td>0.5748</td>\n",
       "      <td>0.5771</td>\n",
       "      <td>0.5786</td>\n",
       "      <td>0.5793</td>\n",
       "      <td>0.5792</td>\n",
       "      <td>11.6</td>\n",
       "      <td>T</td>\n",
       "    </tr>\n",
       "    <tr>\n",
       "      <th>3</th>\n",
       "      <td>3T1H2</td>\n",
       "      <td>0.2314</td>\n",
       "      <td>0.2377</td>\n",
       "      <td>0.2417</td>\n",
       "      <td>0.2444</td>\n",
       "      <td>0.2458</td>\n",
       "      <td>0.2461</td>\n",
       "      <td>0.2451</td>\n",
       "      <td>0.2433</td>\n",
       "      <td>0.2408</td>\n",
       "      <td>...</td>\n",
       "      <td>0.5582</td>\n",
       "      <td>0.5632</td>\n",
       "      <td>0.5673</td>\n",
       "      <td>0.5705</td>\n",
       "      <td>0.5728</td>\n",
       "      <td>0.5742</td>\n",
       "      <td>0.5749</td>\n",
       "      <td>0.5749</td>\n",
       "      <td>12.7</td>\n",
       "      <td>T</td>\n",
       "    </tr>\n",
       "    <tr>\n",
       "      <th>4</th>\n",
       "      <td>3T2A1</td>\n",
       "      <td>0.2378</td>\n",
       "      <td>0.2438</td>\n",
       "      <td>0.2480</td>\n",
       "      <td>0.2507</td>\n",
       "      <td>0.2519</td>\n",
       "      <td>0.2523</td>\n",
       "      <td>0.2509</td>\n",
       "      <td>0.2493</td>\n",
       "      <td>0.2470</td>\n",
       "      <td>...</td>\n",
       "      <td>0.5965</td>\n",
       "      <td>0.6020</td>\n",
       "      <td>0.6067</td>\n",
       "      <td>0.6104</td>\n",
       "      <td>0.6129</td>\n",
       "      <td>0.6146</td>\n",
       "      <td>0.6153</td>\n",
       "      <td>0.6153</td>\n",
       "      <td>9.1</td>\n",
       "      <td>T</td>\n",
       "    </tr>\n",
       "  </tbody>\n",
       "</table>\n",
       "<p>5 rows × 528 columns</p>\n",
       "</div>"
      ],
      "text/plain": [
       "  Farine     400     404     408     412     416     420     424     428  \\\n",
       "0  3T1A1  0.2195  0.2254  0.2296  0.2326  0.2342  0.2354  0.2348  0.2337   \n",
       "1  3T1A2  0.2166  0.2222  0.2262  0.2290  0.2308  0.2316  0.2309  0.2299   \n",
       "2  3T1H1  0.2261  0.2327  0.2369  0.2398  0.2414  0.2418  0.2410  0.2395   \n",
       "3  3T1H2  0.2314  0.2377  0.2417  0.2444  0.2458  0.2461  0.2451  0.2433   \n",
       "4  3T2A1  0.2378  0.2438  0.2480  0.2507  0.2519  0.2523  0.2509  0.2493   \n",
       "\n",
       "      432  ...    2468    2472    2476    2480    2484    2488    2492  \\\n",
       "0  0.2320  ...  0.5496  0.5548  0.5591  0.5625  0.5650  0.5665  0.5672   \n",
       "1  0.2282  ...  0.5408  0.5459  0.5502  0.5536  0.5561  0.5577  0.5583   \n",
       "2  0.2374  ...  0.5623  0.5673  0.5715  0.5748  0.5771  0.5786  0.5793   \n",
       "3  0.2408  ...  0.5582  0.5632  0.5673  0.5705  0.5728  0.5742  0.5749   \n",
       "4  0.2470  ...  0.5965  0.6020  0.6067  0.6104  0.6129  0.6146  0.6153   \n",
       "\n",
       "     2496  PROTREF  dur/tendre  \n",
       "0  0.5672      8.9           T  \n",
       "1  0.5583      8.7           T  \n",
       "2  0.5792     11.6           T  \n",
       "3  0.5749     12.7           T  \n",
       "4  0.6153      9.1           T  \n",
       "\n",
       "[5 rows x 528 columns]"
      ]
     },
     "execution_count": 14,
     "metadata": {},
     "output_type": "execute_result"
    }
   ],
   "source": [
    "farines.head()"
   ]
  },
  {
   "cell_type": "markdown",
   "id": "b58ff59e-f900-414d-9712-859d97304c23",
   "metadata": {},
   "source": [
    "### Courbe du Spectre Moyen"
   ]
  },
  {
   "cell_type": "code",
   "execution_count": 23,
   "id": "9d3e86a8-ee6a-40ad-a9ee-7cbe875f2066",
   "metadata": {
    "tags": []
   },
   "outputs": [
    {
     "data": {
      "image/png": "[encoded data removed]",
      "text/plain": [
       "<Figure size 640x480 with 1 Axes>"
      ]
     },
     "metadata": {},
     "output_type": "display_data"
    }
   ],
   "source": [
    "# Courbe du Spectre Moyen\n",
    "\n",
    "x = farines.columns[1:-2].to_numpy(dtype='float64')\n",
    "y = farines.iloc[:, 1:-2].mean().to_numpy(dtype='float64')\n",
    "\n",
    "plt.plot(x,y)\n",
    "plt.title(\"Courbe du Spectre Moyen\")\n",
    "plt.xlabel(\"Longueur d'onde (nm)\")\n",
    "plt.ylabel(\"Absorbance\")\n",
    "plt.show()"
   ]
  },
  {
   "cell_type": "markdown",
   "id": "d2c434c4-ba8b-4f70-ac9d-4c1f608a4509",
   "metadata": {},
   "source": [
    "### Courbe des Ecart-Types"
   ]
  },
  {
   "cell_type": "code",
   "execution_count": 22,
   "id": "ca04a714-d8d4-4c64-9f7d-b32ee68d7466",
   "metadata": {
    "tags": []
   },
   "outputs": [
    {
     "ename": "TypeError",
     "evalue": "cannot do slice indexing on Index with these indexers [1] of type int",
     "output_type": "error",
     "traceback": [
      "\u001b[1;31m---------------------------------------------------------------------------\u001b[0m",
      "\u001b[1;31mTypeError\u001b[0m                                 Traceback (most recent call last)",
      "Cell \u001b[1;32mIn[22], line 4\u001b[0m\n\u001b[0;32m      1\u001b[0m \u001b[38;5;66;03m# Courbe des Ecart-Types\u001b[39;00m\n\u001b[0;32m      3\u001b[0m x \u001b[38;5;241m=\u001b[39m xfarines\u001b[38;5;241m.\u001b[39mcolumns[\u001b[38;5;241m1\u001b[39m:\u001b[38;5;241m-\u001b[39m\u001b[38;5;241m2\u001b[39m]\u001b[38;5;241m.\u001b[39mto_numpy(dtype\u001b[38;5;241m=\u001b[39m\u001b[38;5;124m'\u001b[39m\u001b[38;5;124mfloat64\u001b[39m\u001b[38;5;124m'\u001b[39m)\n\u001b[1;32m----> 4\u001b[0m y \u001b[38;5;241m=\u001b[39m xfarines\u001b[38;5;241m.\u001b[39mloc[:, \u001b[38;5;241m1\u001b[39m:\u001b[38;5;241m-\u001b[39m\u001b[38;5;241m2\u001b[39m]\u001b[38;5;241m.\u001b[39mstd()\u001b[38;5;241m.\u001b[39mto_numpy(dtype\u001b[38;5;241m=\u001b[39m\u001b[38;5;124m'\u001b[39m\u001b[38;5;124mfloat64\u001b[39m\u001b[38;5;124m'\u001b[39m)\n\u001b[0;32m      6\u001b[0m plt\u001b[38;5;241m.\u001b[39mplot(x,y)\n\u001b[0;32m      7\u001b[0m plt\u001b[38;5;241m.\u001b[39mtitle(\u001b[38;5;124m\"\u001b[39m\u001b[38;5;124mCourbe des Ecart-Types\u001b[39m\u001b[38;5;124m\"\u001b[39m)\n",
      "File \u001b[1;32m~\\anaconda3\\envs\\Chimiometrie\\Lib\\site-packages\\pandas\\core\\indexing.py:1147\u001b[0m, in \u001b[0;36m_LocationIndexer.__getitem__\u001b[1;34m(self, key)\u001b[0m\n\u001b[0;32m   1145\u001b[0m     \u001b[38;5;28;01mif\u001b[39;00m \u001b[38;5;28mself\u001b[39m\u001b[38;5;241m.\u001b[39m_is_scalar_access(key):\n\u001b[0;32m   1146\u001b[0m         \u001b[38;5;28;01mreturn\u001b[39;00m \u001b[38;5;28mself\u001b[39m\u001b[38;5;241m.\u001b[39mobj\u001b[38;5;241m.\u001b[39m_get_value(\u001b[38;5;241m*\u001b[39mkey, takeable\u001b[38;5;241m=\u001b[39m\u001b[38;5;28mself\u001b[39m\u001b[38;5;241m.\u001b[39m_takeable)\n\u001b[1;32m-> 1147\u001b[0m     \u001b[38;5;28;01mreturn\u001b[39;00m \u001b[38;5;28mself\u001b[39m\u001b[38;5;241m.\u001b[39m_getitem_tuple(key)\n\u001b[0;32m   1148\u001b[0m \u001b[38;5;28;01melse\u001b[39;00m:\n\u001b[0;32m   1149\u001b[0m     \u001b[38;5;66;03m# we by definition only have the 0th axis\u001b[39;00m\n\u001b[0;32m   1150\u001b[0m     axis \u001b[38;5;241m=\u001b[39m \u001b[38;5;28mself\u001b[39m\u001b[38;5;241m.\u001b[39maxis \u001b[38;5;129;01mor\u001b[39;00m \u001b[38;5;241m0\u001b[39m\n",
      "File \u001b[1;32m~\\anaconda3\\envs\\Chimiometrie\\Lib\\site-packages\\pandas\\core\\indexing.py:1339\u001b[0m, in \u001b[0;36m_LocIndexer._getitem_tuple\u001b[1;34m(self, tup)\u001b[0m\n\u001b[0;32m   1336\u001b[0m \u001b[38;5;28;01mif\u001b[39;00m \u001b[38;5;28mself\u001b[39m\u001b[38;5;241m.\u001b[39m_multi_take_opportunity(tup):\n\u001b[0;32m   1337\u001b[0m     \u001b[38;5;28;01mreturn\u001b[39;00m \u001b[38;5;28mself\u001b[39m\u001b[38;5;241m.\u001b[39m_multi_take(tup)\n\u001b[1;32m-> 1339\u001b[0m \u001b[38;5;28;01mreturn\u001b[39;00m \u001b[38;5;28mself\u001b[39m\u001b[38;5;241m.\u001b[39m_getitem_tuple_same_dim(tup)\n",
      "File \u001b[1;32m~\\anaconda3\\envs\\Chimiometrie\\Lib\\site-packages\\pandas\\core\\indexing.py:994\u001b[0m, in \u001b[0;36m_LocationIndexer._getitem_tuple_same_dim\u001b[1;34m(self, tup)\u001b[0m\n\u001b[0;32m    991\u001b[0m \u001b[38;5;28;01mif\u001b[39;00m com\u001b[38;5;241m.\u001b[39mis_null_slice(key):\n\u001b[0;32m    992\u001b[0m     \u001b[38;5;28;01mcontinue\u001b[39;00m\n\u001b[1;32m--> 994\u001b[0m retval \u001b[38;5;241m=\u001b[39m \u001b[38;5;28mgetattr\u001b[39m(retval, \u001b[38;5;28mself\u001b[39m\u001b[38;5;241m.\u001b[39mname)\u001b[38;5;241m.\u001b[39m_getitem_axis(key, axis\u001b[38;5;241m=\u001b[39mi)\n\u001b[0;32m    995\u001b[0m \u001b[38;5;66;03m# We should never have retval.ndim < self.ndim, as that should\u001b[39;00m\n\u001b[0;32m    996\u001b[0m \u001b[38;5;66;03m#  be handled by the _getitem_lowerdim call above.\u001b[39;00m\n\u001b[0;32m    997\u001b[0m \u001b[38;5;28;01massert\u001b[39;00m retval\u001b[38;5;241m.\u001b[39mndim \u001b[38;5;241m==\u001b[39m \u001b[38;5;28mself\u001b[39m\u001b[38;5;241m.\u001b[39mndim\n",
      "File \u001b[1;32m~\\anaconda3\\envs\\Chimiometrie\\Lib\\site-packages\\pandas\\core\\indexing.py:1373\u001b[0m, in \u001b[0;36m_LocIndexer._getitem_axis\u001b[1;34m(self, key, axis)\u001b[0m\n\u001b[0;32m   1371\u001b[0m \u001b[38;5;28;01mif\u001b[39;00m \u001b[38;5;28misinstance\u001b[39m(key, \u001b[38;5;28mslice\u001b[39m):\n\u001b[0;32m   1372\u001b[0m     \u001b[38;5;28mself\u001b[39m\u001b[38;5;241m.\u001b[39m_validate_key(key, axis)\n\u001b[1;32m-> 1373\u001b[0m     \u001b[38;5;28;01mreturn\u001b[39;00m \u001b[38;5;28mself\u001b[39m\u001b[38;5;241m.\u001b[39m_get_slice_axis(key, axis\u001b[38;5;241m=\u001b[39maxis)\n\u001b[0;32m   1374\u001b[0m \u001b[38;5;28;01melif\u001b[39;00m com\u001b[38;5;241m.\u001b[39mis_bool_indexer(key):\n\u001b[0;32m   1375\u001b[0m     \u001b[38;5;28;01mreturn\u001b[39;00m \u001b[38;5;28mself\u001b[39m\u001b[38;5;241m.\u001b[39m_getbool_axis(key, axis\u001b[38;5;241m=\u001b[39maxis)\n",
      "File \u001b[1;32m~\\anaconda3\\envs\\Chimiometrie\\Lib\\site-packages\\pandas\\core\\indexing.py:1405\u001b[0m, in \u001b[0;36m_LocIndexer._get_slice_axis\u001b[1;34m(self, slice_obj, axis)\u001b[0m\n\u001b[0;32m   1402\u001b[0m     \u001b[38;5;28;01mreturn\u001b[39;00m obj\u001b[38;5;241m.\u001b[39mcopy(deep\u001b[38;5;241m=\u001b[39m\u001b[38;5;28;01mFalse\u001b[39;00m)\n\u001b[0;32m   1404\u001b[0m labels \u001b[38;5;241m=\u001b[39m obj\u001b[38;5;241m.\u001b[39m_get_axis(axis)\n\u001b[1;32m-> 1405\u001b[0m indexer \u001b[38;5;241m=\u001b[39m labels\u001b[38;5;241m.\u001b[39mslice_indexer(slice_obj\u001b[38;5;241m.\u001b[39mstart, slice_obj\u001b[38;5;241m.\u001b[39mstop, slice_obj\u001b[38;5;241m.\u001b[39mstep)\n\u001b[0;32m   1407\u001b[0m \u001b[38;5;28;01mif\u001b[39;00m \u001b[38;5;28misinstance\u001b[39m(indexer, \u001b[38;5;28mslice\u001b[39m):\n\u001b[0;32m   1408\u001b[0m     \u001b[38;5;28;01mreturn\u001b[39;00m \u001b[38;5;28mself\u001b[39m\u001b[38;5;241m.\u001b[39mobj\u001b[38;5;241m.\u001b[39m_slice(indexer, axis\u001b[38;5;241m=\u001b[39maxis)\n",
      "File \u001b[1;32m~\\anaconda3\\envs\\Chimiometrie\\Lib\\site-packages\\pandas\\core\\indexes\\base.py:6601\u001b[0m, in \u001b[0;36mIndex.slice_indexer\u001b[1;34m(self, start, end, step)\u001b[0m\n\u001b[0;32m   6557\u001b[0m \u001b[38;5;28;01mdef\u001b[39;00m \u001b[38;5;21mslice_indexer\u001b[39m(\n\u001b[0;32m   6558\u001b[0m     \u001b[38;5;28mself\u001b[39m,\n\u001b[0;32m   6559\u001b[0m     start: Hashable \u001b[38;5;241m|\u001b[39m \u001b[38;5;28;01mNone\u001b[39;00m \u001b[38;5;241m=\u001b[39m \u001b[38;5;28;01mNone\u001b[39;00m,\n\u001b[0;32m   6560\u001b[0m     end: Hashable \u001b[38;5;241m|\u001b[39m \u001b[38;5;28;01mNone\u001b[39;00m \u001b[38;5;241m=\u001b[39m \u001b[38;5;28;01mNone\u001b[39;00m,\n\u001b[0;32m   6561\u001b[0m     step: \u001b[38;5;28mint\u001b[39m \u001b[38;5;241m|\u001b[39m \u001b[38;5;28;01mNone\u001b[39;00m \u001b[38;5;241m=\u001b[39m \u001b[38;5;28;01mNone\u001b[39;00m,\n\u001b[0;32m   6562\u001b[0m ) \u001b[38;5;241m-\u001b[39m\u001b[38;5;241m>\u001b[39m \u001b[38;5;28mslice\u001b[39m:\n\u001b[0;32m   6563\u001b[0m \u001b[38;5;250m    \u001b[39m\u001b[38;5;124;03m\"\"\"\u001b[39;00m\n\u001b[0;32m   6564\u001b[0m \u001b[38;5;124;03m    Compute the slice indexer for input labels and step.\u001b[39;00m\n\u001b[0;32m   6565\u001b[0m \n\u001b[1;32m   (...)\u001b[0m\n\u001b[0;32m   6599\u001b[0m \u001b[38;5;124;03m    slice(1, 3, None)\u001b[39;00m\n\u001b[0;32m   6600\u001b[0m \u001b[38;5;124;03m    \"\"\"\u001b[39;00m\n\u001b[1;32m-> 6601\u001b[0m     start_slice, end_slice \u001b[38;5;241m=\u001b[39m \u001b[38;5;28mself\u001b[39m\u001b[38;5;241m.\u001b[39mslice_locs(start, end, step\u001b[38;5;241m=\u001b[39mstep)\n\u001b[0;32m   6603\u001b[0m     \u001b[38;5;66;03m# return a slice\u001b[39;00m\n\u001b[0;32m   6604\u001b[0m     \u001b[38;5;28;01mif\u001b[39;00m \u001b[38;5;129;01mnot\u001b[39;00m is_scalar(start_slice):\n",
      "File \u001b[1;32m~\\anaconda3\\envs\\Chimiometrie\\Lib\\site-packages\\pandas\\core\\indexes\\base.py:6818\u001b[0m, in \u001b[0;36mIndex.slice_locs\u001b[1;34m(self, start, end, step)\u001b[0m\n\u001b[0;32m   6816\u001b[0m start_slice \u001b[38;5;241m=\u001b[39m \u001b[38;5;28;01mNone\u001b[39;00m\n\u001b[0;32m   6817\u001b[0m \u001b[38;5;28;01mif\u001b[39;00m start \u001b[38;5;129;01mis\u001b[39;00m \u001b[38;5;129;01mnot\u001b[39;00m \u001b[38;5;28;01mNone\u001b[39;00m:\n\u001b[1;32m-> 6818\u001b[0m     start_slice \u001b[38;5;241m=\u001b[39m \u001b[38;5;28mself\u001b[39m\u001b[38;5;241m.\u001b[39mget_slice_bound(start, \u001b[38;5;124m\"\u001b[39m\u001b[38;5;124mleft\u001b[39m\u001b[38;5;124m\"\u001b[39m)\n\u001b[0;32m   6819\u001b[0m \u001b[38;5;28;01mif\u001b[39;00m start_slice \u001b[38;5;129;01mis\u001b[39;00m \u001b[38;5;28;01mNone\u001b[39;00m:\n\u001b[0;32m   6820\u001b[0m     start_slice \u001b[38;5;241m=\u001b[39m \u001b[38;5;241m0\u001b[39m\n",
      "File \u001b[1;32m~\\anaconda3\\envs\\Chimiometrie\\Lib\\site-packages\\pandas\\core\\indexes\\base.py:6733\u001b[0m, in \u001b[0;36mIndex.get_slice_bound\u001b[1;34m(self, label, side)\u001b[0m\n\u001b[0;32m   6729\u001b[0m original_label \u001b[38;5;241m=\u001b[39m label\n\u001b[0;32m   6731\u001b[0m \u001b[38;5;66;03m# For datetime indices label may be a string that has to be converted\u001b[39;00m\n\u001b[0;32m   6732\u001b[0m \u001b[38;5;66;03m# to datetime boundary according to its resolution.\u001b[39;00m\n\u001b[1;32m-> 6733\u001b[0m label \u001b[38;5;241m=\u001b[39m \u001b[38;5;28mself\u001b[39m\u001b[38;5;241m.\u001b[39m_maybe_cast_slice_bound(label, side)\n\u001b[0;32m   6735\u001b[0m \u001b[38;5;66;03m# we need to look up the label\u001b[39;00m\n\u001b[0;32m   6736\u001b[0m \u001b[38;5;28;01mtry\u001b[39;00m:\n",
      "File \u001b[1;32m~\\anaconda3\\envs\\Chimiometrie\\Lib\\site-packages\\pandas\\core\\indexes\\base.py:6666\u001b[0m, in \u001b[0;36mIndex._maybe_cast_slice_bound\u001b[1;34m(self, label, side)\u001b[0m\n\u001b[0;32m   6664\u001b[0m \u001b[38;5;66;03m# reject them, if index does not contain label\u001b[39;00m\n\u001b[0;32m   6665\u001b[0m \u001b[38;5;28;01mif\u001b[39;00m (is_float(label) \u001b[38;5;129;01mor\u001b[39;00m is_integer(label)) \u001b[38;5;129;01mand\u001b[39;00m label \u001b[38;5;129;01mnot\u001b[39;00m \u001b[38;5;129;01min\u001b[39;00m \u001b[38;5;28mself\u001b[39m:\n\u001b[1;32m-> 6666\u001b[0m     \u001b[38;5;28mself\u001b[39m\u001b[38;5;241m.\u001b[39m_raise_invalid_indexer(\u001b[38;5;124m\"\u001b[39m\u001b[38;5;124mslice\u001b[39m\u001b[38;5;124m\"\u001b[39m, label)\n\u001b[0;32m   6668\u001b[0m \u001b[38;5;28;01mreturn\u001b[39;00m label\n",
      "File \u001b[1;32m~\\anaconda3\\envs\\Chimiometrie\\Lib\\site-packages\\pandas\\core\\indexes\\base.py:4305\u001b[0m, in \u001b[0;36mIndex._raise_invalid_indexer\u001b[1;34m(self, form, key, reraise)\u001b[0m\n\u001b[0;32m   4303\u001b[0m \u001b[38;5;28;01mif\u001b[39;00m reraise \u001b[38;5;129;01mis\u001b[39;00m \u001b[38;5;129;01mnot\u001b[39;00m lib\u001b[38;5;241m.\u001b[39mno_default:\n\u001b[0;32m   4304\u001b[0m     \u001b[38;5;28;01mraise\u001b[39;00m \u001b[38;5;167;01mTypeError\u001b[39;00m(msg) \u001b[38;5;28;01mfrom\u001b[39;00m \u001b[38;5;21;01mreraise\u001b[39;00m\n\u001b[1;32m-> 4305\u001b[0m \u001b[38;5;28;01mraise\u001b[39;00m \u001b[38;5;167;01mTypeError\u001b[39;00m(msg)\n",
      "\u001b[1;31mTypeError\u001b[0m: cannot do slice indexing on Index with these indexers [1] of type int"
     ]
    }
   ],
   "source": [
    "# Courbe des Ecart-Types\n",
    "\n",
    "x = xfarines.columns[1:-2].to_numpy(dtype='float64')\n",
    "y = xfarines.loc[:, 1:-2].std().to_numpy(dtype='float64')\n",
    "\n",
    "plt.plot(x,y)\n",
    "plt.title(\"Courbe des Ecart-Types\")\n",
    "plt.xlabel(\"Longueur d'onde (nm)\")\n",
    "plt.ylabel(\"Absorbance\")\n",
    "plt.show()"
   ]
  },
  {
   "cell_type": "markdown",
   "id": "fffb9ce2-a77c-43aa-9900-5dba1969d0bd",
   "metadata": {
    "tags": []
   },
   "source": [
    "###  Corrélogramme"
   ]
  },
  {
   "cell_type": "code",
   "execution_count": 17,
   "id": "3e8d2af7-e31b-4a48-b2ec-98dc5f386053",
   "metadata": {},
   "outputs": [
    {
     "data": {
      "image/png": "[encoded data removed]",
      "text/plain": [
       "<Figure size 640x480 with 1 Axes>"
      ]
     },
     "metadata": {},
     "output_type": "display_data"
    }
   ],
   "source": [
    "#  Corrélogramme\n",
    "\n",
    "x = farines.columns[1:-2].to_numpy(dtype='float64')\n",
    "y = np.array([np.corrcoef(farines[col], farines.PROTREF)[0, 1] for col in farines.columns[1:-2]])\n",
    "\n",
    "plt.plot(x,y)\n",
    "plt.title(\"Corrélogramme\")\n",
    "plt.xlabel(\"Longueur d'onde (nm)\")\n",
    "plt.ylabel(\"Coefficient de correlation\")\n",
    "plt.show()"
   ]
  },
  {
   "cell_type": "markdown",
   "id": "58cb4bcd-a947-4000-acc1-4a89a27991ef",
   "metadata": {},
   "source": [
    "### Histogramme de la variable « protéines »"
   ]
  },
  {
   "cell_type": "code",
   "execution_count": 18,
   "id": "2b7601bf-2863-4482-a78d-f783b67390a4",
   "metadata": {
    "tags": []
   },
   "outputs": [
    {
     "data": {
      "image/png": "[encoded data removed]",
      "text/plain": [
       "<Figure size 640x480 with 1 Axes>"
      ]
     },
     "metadata": {},
     "output_type": "display_data"
    }
   ],
   "source": [
    "sns.histplot(data=farines, x=\"PROTREF\", hue=\"dur/tendre\", kde=True, binwidth=0.5)\n",
    "plt.show()"
   ]
  },
  {
   "cell_type": "markdown",
   "id": "7272aeca-3754-4522-b7e0-530c38a0982f",
   "metadata": {},
   "source": [
    "### Histogramme de la longueur d’onde 2000 nanomètres."
   ]
  },
  {
   "cell_type": "code",
   "execution_count": 19,
   "id": "2d52b4bd-75ac-4f46-a87f-11ac2e4f3329",
   "metadata": {
    "tags": []
   },
   "outputs": [
    {
     "data": {
      "image/png": "[encoded data removed]",
      "text/plain": [
       "<Figure size 640x480 with 1 Axes>"
      ]
     },
     "metadata": {},
     "output_type": "display_data"
    }
   ],
   "source": [
    "sns.histplot(data=farines, x=\"2000\", hue=\"dur/tendre\", kde=True, binwidth=0.02)\n",
    "plt.show()"
   ]
  },
  {
   "cell_type": "code",
   "execution_count": null,
   "id": "c6a8e42b-76f4-4604-9de4-820ae31a5024",
   "metadata": {},
   "outputs": [],
   "source": []
  }
 ],
 "metadata": {
  "kernelspec": {
   "display_name": "Python 3 (ipykernel)",
   "language": "python",
   "name": "python3"
  },
  "language_info": {
   "codemirror_mode": {
    "name": "ipython",
    "version": 3
   },
   "file_extension": ".py",
   "mimetype": "text/x-python",
   "name": "python",
   "nbconvert_exporter": "python",
   "pygments_lexer": "ipython3",
   "version": "3.11.5"
  }
 },
 "nbformat": 4,
 "nbformat_minor": 5
}
